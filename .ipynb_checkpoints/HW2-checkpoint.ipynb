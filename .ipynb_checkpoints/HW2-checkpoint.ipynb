{
 "cells": [
  {
   "cell_type": "code",
   "execution_count": null,
   "metadata": {},
   "outputs": [],
   "source": [
    "from math import log10\n",
    "\n",
    "# =======================================\n",
    "# -- TF-IDF function\n",
    "# =======================================\n",
    "def f(t, d):\n",
    "    # d is document == tokens\n",
    "    return d.count(t)\n",
    "\n",
    "def tf(t, d):\n",
    "    # d is document == tokens\n",
    "    return 0.5 + 0.5*f(t,d)/max([f(w,d) for w in d])\n",
    "\n",
    "def idf(t, D):\n",
    "    # D is documents == document list\n",
    "    numerator = len(D)\n",
    "    denominator = 1 + len([ True for d in D if t in d])\n",
    "    return log10(numerator/denominator)\n",
    "\n",
    "def tfidf(t, d, D):\n",
    "    return tf(t,d)*idf(t, D)\n",
    "\n",
    "def tokenizer(d):\n",
    "    # return [ t for t in d.split() if len(t) > 1 ]\n",
    "    return d.split()\n",
    "\n",
    "def tfidfScorer(D):\n",
    "    tokenized_D = [tokenizer(d) for d in D]\n",
    "    result = []\n",
    "    for d in tokenized_D:\n",
    "        result.append([(t, tfidf(t, d, tokenized_D)) for t in d])\n",
    "    return result\n",
    "\n",
    "\n",
    "if __name__ == '__main__':\n",
    "    corpus = ['동해물과 백두산이 마르고 닳도록 하느님이 보우하사 우리나라 만세 무궁화 삼천리 화려 강산 대한사람 대한으로 길이 보전하세',\n",
    "              '남산 위에 저 소나무 철갑을 두른 듯 바람서리 불변함은 우리 기상일세 무궁화 삼천리 화려 강산 대한사람 대한으로 길이 보전하세',\n",
    "              '가을 하늘 공활한데 높고 구름 없이 밝은 달은 우리 가슴 일편단심일세 무궁화 삼천리 화려 강산 대한사람 대한으로 길이 보전하세',\n",
    "              '이 기상과 이 맘으로 충성을 다하여 괴로우나 즐거우나 나라 사랑하세 무궁화 삼천리 화려 강산 대한사람 대한으로 길이 보전하세',\n",
    "              '오 필승 코리아 오 필승 코리아 오 필승 코리아 오 오레 오레 무궁화 삼천리 화려 강산 대한사람 대한으로 길이 보전하세']\n",
    "\n",
    "    for i, doc in enumerate(tfidfScorer(corpus)):\n",
    "        print('====== document[%d] ======' % i)\n",
    "        print(doc)\n"
   ]
  }
 ],
 "metadata": {
  "kernelspec": {
   "display_name": "Python 3",
   "language": "python",
   "name": "python3"
  },
  "language_info": {
   "codemirror_mode": {
    "name": "ipython",
    "version": 3
   },
   "file_extension": ".py",
   "mimetype": "text/x-python",
   "name": "python",
   "nbconvert_exporter": "python",
   "pygments_lexer": "ipython3",
   "version": "3.7.3"
  }
 },
 "nbformat": 4,
 "nbformat_minor": 2
}
